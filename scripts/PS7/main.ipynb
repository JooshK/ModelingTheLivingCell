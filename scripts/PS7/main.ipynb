{
 "cells": [
  {
   "cell_type": "code",
   "execution_count": 4,
   "metadata": {
    "ExecuteTime": {
     "end_time": "2023-12-04T23:18:09.274545Z",
     "start_time": "2023-12-04T23:18:08.784719Z"
    }
   },
   "outputs": [],
   "source": [
    "from PS3.gillespie import Gillespie\n",
    "import numpy as np\n",
    "import pandas as pd"
   ]
  },
  {
   "cell_type": "code",
   "execution_count": 3,
   "outputs": [],
   "source": [
    "class Reaction_parameters:\n",
    "    geneB_init = int(1)\n",
    "    geneA_init = int(1)\n",
    "    \n",
    "    k1 = 1/50\n",
    "    k2a = 1/602\n",
    "    k2b = 1/50\n",
    "    k3 = 1/500\n",
    "    k4 = 1/0.01\n",
    "    k5a = 1/602\n",
    "    k5b = 1/100\n",
    "    k6 = 1/50\n",
    "    k7 = 1/50\n",
    "    k8 = 1/5\n",
    "    k9 = 1/1204\n",
    "    k10 = 1\n",
    "    k11 = 1 \n",
    "    k12 = 1/0.2\n",
    "    k13 = 1/10 \n",
    "    k14 = 1/0.5"
   ],
   "metadata": {
    "collapsed": false,
    "ExecuteTime": {
     "end_time": "2023-12-04T23:16:56.750786Z",
     "start_time": "2023-12-04T23:16:56.738832Z"
    }
   }
  },
  {
   "cell_type": "code",
   "execution_count": 6,
   "outputs": [],
   "source": [
    "pm = Reaction_parameters()\n",
    "df_gillespie = pd.DataFrame()\n",
    "propensity_functions = [\n",
    "    lambda x,_:pm.k1*x,\n",
    "    lambda x,y:pm.k2a*x*y,\n",
    "    lambda x,_:pm.k2b*x,\n",
    "    lambda x,_:pm.k3*x,\n",
    "    lambda x,_:pm.k4*x,\n",
    "    lambda x,y:pm.k5a*x*y,\n",
    "    lambda x,_:pm.k5b*x,\n",
    "    lambda x,_:pm.k6*x,\n",
    "    lambda x,_:pm.k7*x,\n",
    "    lambda x,y:pm.k8*x*y,\n",
    "    lambda x,_:pm.k10*x,\n",
    "    lambda x,_:pm.k11*x,\n",
    "    lambda x,_:pm.k12*x,\n",
    "    lambda x,_:pm.k13*x,\n",
    "    lambda x,_:pm.k14*x,\n",
    "]\n",
    "initial_state = [pm.geneA_init, pm.geneB_init]\n",
    "\n",
    "reaction_1 = []\n",
    "\n",
    "reaction_matrix = np.array([[1, 0], [1, -1], [-1, 1], [-1, 0]])\n",
    "\n",
    "simulation = Gillespie(initial_state, reaction_matrix, propensity_functions, max_time=25.0, M=4)"
   ],
   "metadata": {
    "collapsed": false,
    "ExecuteTime": {
     "end_time": "2023-12-05T16:45:06.224421Z",
     "start_time": "2023-12-05T16:45:06.219495Z"
    }
   }
  },
  {
   "cell_type": "code",
   "execution_count": null,
   "outputs": [],
   "source": [
    "df_stochastic_simulation = pd.DataFrame()\n",
    "x, y, t = simulation.run()\n",
    "\n",
    "df_stochastic_simulation[\"x\"] = x\n",
    "df_stochastic_simulation[\"y\"] = y\n",
    "df_stochastic_simulation[\"time (tu)\"] = t\n",
    "\n",
    "df_stochastic_simulation = df_stochastic_simulation.melt(id_vars=[\"time (tu)\"], var_name='variable',\n",
    "                                                         value_name='copy numbers')\n",
    "df_stochastic_simulation.head()"
   ],
   "metadata": {
    "collapsed": false
   }
  }
 ],
 "metadata": {
  "kernelspec": {
   "display_name": "MTLC23",
   "language": "python",
   "name": "python3"
  },
  "language_info": {
   "codemirror_mode": {
    "name": "ipython",
    "version": 3
   },
   "file_extension": ".py",
   "mimetype": "text/x-python",
   "name": "python",
   "nbconvert_exporter": "python",
   "pygments_lexer": "ipython3",
   "version": "3.11.4"
  }
 },
 "nbformat": 4,
 "nbformat_minor": 2
}
