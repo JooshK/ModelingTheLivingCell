{
 "cells": [
  {
   "cell_type": "code",
   "execution_count": 1,
   "metadata": {
    "ExecuteTime": {
     "end_time": "2023-12-05T16:49:56.576167600Z",
     "start_time": "2023-12-05T16:49:56.287170100Z"
    }
   },
   "outputs": [],
   "source": [
    "from PS3.gillespie import Gillespie\n",
    "import numpy as np\n",
    "import pandas as pd"
   ]
  },
  {
   "cell_type": "code",
   "execution_count": 10,
   "outputs": [],
   "source": [
    "class ReactionParameters:\n",
    "    geneR_init = int(1)\n",
    "    geneA_init = int(1)\n",
    "    \n",
    "    k1 = 1/50\n",
    "    k2a = 1/602\n",
    "    k2b = 1/50\n",
    "    k3 = 1/500\n",
    "    k4 = 1/0.01\n",
    "    k5a = 1/602\n",
    "    k5b = 1/100\n",
    "    k6 = 1/50\n",
    "    k7 = 1/50\n",
    "    k8 = 1/5\n",
    "    k9 = 1/1204\n",
    "    k10 = 1\n",
    "    k11 = 1 \n",
    "    k12 = 1/0.2\n",
    "    k13 = 1/10 \n",
    "    k14 = 1/0.5"
   ],
   "metadata": {
    "collapsed": false,
    "ExecuteTime": {
     "end_time": "2023-12-05T17:06:48.922666Z",
     "start_time": "2023-12-05T17:06:48.905666300Z"
    }
   }
  },
  {
   "cell_type": "code",
   "execution_count": 11,
   "outputs": [],
   "source": [
    "pm = ReactionParameters()\n",
    "df_gillespie = pd.DataFrame()\n",
    "propensity_functions = [\n",
    "    lambda x,_:pm.k1*x,\n",
    "    lambda x,y:pm.k2a*x*y,\n",
    "    lambda x,_:pm.k2b*x,\n",
    "    lambda x,_:pm.k3*x,\n",
    "    lambda x,_:pm.k4*x,\n",
    "    lambda x,y:pm.k5a*x*y,\n",
    "    lambda x,_:pm.k5b*x,\n",
    "    lambda x,_:pm.k6*x,\n",
    "    lambda x,_:pm.k7*x,\n",
    "    lambda x,y:pm.k8*x*y,\n",
    "    lambda x,y:pm.k9*x*y,\n",
    "    lambda x,_:pm.k10*x,\n",
    "    lambda x,_:pm.k11*x,\n",
    "    lambda x,_:pm.k12*x,\n",
    "    lambda x,_:pm.k13*x,\n",
    "    lambda x,_:pm.k14*x,\n",
    "]\n",
    "initial_state = [pm.geneA_init, 0, 0, 0, pm.geneR_init, 0, 0, 0, 0]\n",
    "# order - geneA, mRNA_A, A, geneA_bound, geneR, mRNA_R, geneR_bound, R, C\n",
    "reaction_1 =  [0, 1, 0, 0, 0, 0, 0, 0, 0]\n",
    "reaction_2a = [-1, 0, -1, 1, 0, 0, 0, 0, 0]\n",
    "reaction_2b = [1, 0, 1, -1, 0, 0, 0, 0, 0]\n",
    "reaction_3 =  [0, 1, 0, 0, 0, 0, 0, 0, 0]\n",
    "reaction_4 =  [0, 0, 0, 0, 1, 0, 0, 0, 0]\n",
    "reaction_5a = [0, 0, -1, 0, -1, 0, 1, 0, 0]\n",
    "reaction_5b = [0, 0, 1, 0, 1, 0, -1, 0, 0]\n",
    "reaction_6 =  [0, 0, 0, 0, 0, 1, 0, 0, 0]\n",
    "reaction_7 =  [0, 0, 1, 0, 0, 0, 0, 0, 0]\n",
    "reaction_8 =  [0, 0, 0, 0, 0, 0, 0, 1, 0]\n",
    "reaction_9 =  [0, 0, -1, 0, 0, 0, 0, -1, 1]\n",
    "reaction_10 = [0, 0, 0, 0, 0, 0, 0, 1, -1]\n",
    "reaction_11 = [0, 0, -1, 0, 0, 0, 0, 0, 0]\n",
    "reaction_12 = [0, 0, 0, 0, 0, 0, 0, -1, 0]\n",
    "reaction_13 = [0, -1, 0, 0, 0, 0, 0, 0, 0]\n",
    "reaction_14 = [0, 0, 0, 0, 0, -1, 0, 0, 0]\n",
    "\n",
    "reaction_matrix = np.array([reaction_1, reaction_2a, reaction_2b, reaction_3, reaction_4, \n",
    "                            reaction_5a, reaction_5b, reaction_6, reaction_7, reaction_8, \n",
    "                            reaction_9, reaction_10, reaction_11, reaction_12, reaction_13, reaction_14])\n",
    "\n",
    "simulation = Gillespie(initial_state, reaction_matrix, propensity_functions, max_time=25.0, M=4)"
   ],
   "metadata": {
    "collapsed": false,
    "ExecuteTime": {
     "end_time": "2023-12-05T17:07:58.927962700Z",
     "start_time": "2023-12-05T17:07:58.910281200Z"
    }
   }
  },
  {
   "cell_type": "code",
   "execution_count": 12,
   "outputs": [
    {
     "data": {
      "text/plain": "   time (tu) variable  copy numbers\n0    0.00000        x             1\n1   57.77393        x             1\n2    0.00000        y             0\n3   57.77393        y             1",
      "text/html": "<div>\n<style scoped>\n    .dataframe tbody tr th:only-of-type {\n        vertical-align: middle;\n    }\n\n    .dataframe tbody tr th {\n        vertical-align: top;\n    }\n\n    .dataframe thead th {\n        text-align: right;\n    }\n</style>\n<table border=\"1\" class=\"dataframe\">\n  <thead>\n    <tr style=\"text-align: right;\">\n      <th></th>\n      <th>time (tu)</th>\n      <th>variable</th>\n      <th>copy numbers</th>\n    </tr>\n  </thead>\n  <tbody>\n    <tr>\n      <th>0</th>\n      <td>0.00000</td>\n      <td>x</td>\n      <td>1</td>\n    </tr>\n    <tr>\n      <th>1</th>\n      <td>57.77393</td>\n      <td>x</td>\n      <td>1</td>\n    </tr>\n    <tr>\n      <th>2</th>\n      <td>0.00000</td>\n      <td>y</td>\n      <td>0</td>\n    </tr>\n    <tr>\n      <th>3</th>\n      <td>57.77393</td>\n      <td>y</td>\n      <td>1</td>\n    </tr>\n  </tbody>\n</table>\n</div>"
     },
     "execution_count": 12,
     "metadata": {},
     "output_type": "execute_result"
    }
   ],
   "source": [
    "df_stochastic_simulation = pd.DataFrame()\n",
    "x, y, t = simulation.run()\n",
    "\n",
    "df_stochastic_simulation[\"x\"] = x\n",
    "df_stochastic_simulation[\"y\"] = y\n",
    "df_stochastic_simulation[\"time (tu)\"] = t\n",
    "\n",
    "df_stochastic_simulation = df_stochastic_simulation.melt(id_vars=[\"time (tu)\"], var_name='variable',\n",
    "                                                         value_name='copy numbers')\n",
    "df_stochastic_simulation.head()"
   ],
   "metadata": {
    "collapsed": false,
    "ExecuteTime": {
     "end_time": "2023-12-05T17:07:59.833874500Z",
     "start_time": "2023-12-05T17:07:59.783013400Z"
    }
   }
  },
  {
   "cell_type": "code",
   "execution_count": null,
   "outputs": [],
   "source": [],
   "metadata": {
    "collapsed": false
   }
  }
 ],
 "metadata": {
  "kernelspec": {
   "display_name": "MTLC23",
   "language": "python",
   "name": "python3"
  },
  "language_info": {
   "codemirror_mode": {
    "name": "ipython",
    "version": 3
   },
   "file_extension": ".py",
   "mimetype": "text/x-python",
   "name": "python",
   "nbconvert_exporter": "python",
   "pygments_lexer": "ipython3",
   "version": "3.11.4"
  }
 },
 "nbformat": 4,
 "nbformat_minor": 2
}
