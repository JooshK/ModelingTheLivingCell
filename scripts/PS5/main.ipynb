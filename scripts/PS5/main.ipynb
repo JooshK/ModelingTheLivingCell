{
 "cells": [
  {
   "cell_type": "code",
   "execution_count": 1,
   "metadata": {
    "collapsed": true,
    "ExecuteTime": {
     "end_time": "2023-11-07T03:41:13.406319200Z",
     "start_time": "2023-11-07T03:41:13.367319500Z"
    }
   },
   "outputs": [],
   "source": [
    "import numpy as np\n",
    "\n",
    "from langevian_protein import run\n",
    "from langevian_protein import calculate_configuration_force"
   ]
  },
  {
   "cell_type": "code",
   "execution_count": 3,
   "outputs": [],
   "source": [
    "protein_chain = ['H', 'P', 'P', 'H', 'H']\n",
    "coordinates = np.array([\n",
    "    [0,0,1],\n",
    "    [0,0,2],\n",
    "    [0,0,3],\n",
    "    [0,0,4],\n",
    "    [0,0,5]\n",
    "])\n",
    "friction = 0.05\n",
    "m = 1\n",
    "kT = 2\n",
    "dt = 0.003\n",
    "k = 20\n",
    "l = 1\n",
    "iterations = 10"
   ],
   "metadata": {
    "collapsed": false,
    "ExecuteTime": {
     "end_time": "2023-11-07T03:41:13.422319100Z",
     "start_time": "2023-11-07T03:41:13.408319700Z"
    }
   }
  },
  {
   "cell_type": "code",
   "execution_count": 4,
   "outputs": [
    {
     "data": {
      "text/plain": "(-0.13315560198848553,\n array([[ 0.        ,  0.        ,  0.13350171],\n        [ 0.        ,  0.        ,  0.12838964],\n        [ 0.        ,  0.        ,  0.        ],\n        [ 0.        ,  0.        , -0.13203758],\n        [ 0.        ,  0.        , -0.12985377]]))"
     },
     "execution_count": 4,
     "metadata": {},
     "output_type": "execute_result"
    }
   ],
   "source": [
    "calculate_configuration_force(coordinates, protein_chain, k, l)"
   ],
   "metadata": {
    "collapsed": false,
    "ExecuteTime": {
     "end_time": "2023-11-07T03:41:13.472319200Z",
     "start_time": "2023-11-07T03:41:13.439320400Z"
    }
   }
  },
  {
   "cell_type": "code",
   "execution_count": null,
   "outputs": [],
   "source": [
    "# TODO: Go step wise from here and figure out the wrong step - we have the data for one correct iteration."
   ],
   "metadata": {
    "collapsed": false
   }
  }
 ],
 "metadata": {
  "kernelspec": {
   "display_name": "Python 3",
   "language": "python",
   "name": "python3"
  },
  "language_info": {
   "codemirror_mode": {
    "name": "ipython",
    "version": 2
   },
   "file_extension": ".py",
   "mimetype": "text/x-python",
   "name": "python",
   "nbconvert_exporter": "python",
   "pygments_lexer": "ipython2",
   "version": "2.7.6"
  }
 },
 "nbformat": 4,
 "nbformat_minor": 0
}
