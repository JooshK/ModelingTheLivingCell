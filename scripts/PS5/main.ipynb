{
 "cells": [
  {
   "cell_type": "code",
   "execution_count": 1,
   "metadata": {
    "collapsed": true,
    "ExecuteTime": {
     "end_time": "2023-11-06T22:02:29.479993Z",
     "start_time": "2023-11-06T22:02:29.439708600Z"
    }
   },
   "outputs": [],
   "source": [
    "import numpy as np\n",
    "\n",
    "from langevian_protein import calculate_configuration_force"
   ]
  },
  {
   "cell_type": "code",
   "execution_count": 4,
   "outputs": [],
   "source": [
    "protein_chain = ['H', 'P', 'P', 'H', 'H']\n",
    "coordinates = np.array([\n",
    "    [0,0,1],\n",
    "    [0,0,2],\n",
    "    [0,0,3],\n",
    "    [0,0,4],\n",
    "    [0,0,5]\n",
    "])"
   ],
   "metadata": {
    "collapsed": false,
    "ExecuteTime": {
     "end_time": "2023-11-06T22:03:39.406049Z",
     "start_time": "2023-11-06T22:03:39.401049800Z"
    }
   }
  },
  {
   "cell_type": "code",
   "execution_count": 5,
   "outputs": [],
   "source": [
    "V_0, forces_0 = calculate_configuration_force(coordinates, protein_chain, 20, 1)"
   ],
   "metadata": {
    "collapsed": false,
    "ExecuteTime": {
     "end_time": "2023-11-06T22:03:39.945010100Z",
     "start_time": "2023-11-06T22:03:39.924994600Z"
    }
   }
  },
  {
   "cell_type": "code",
   "execution_count": 7,
   "outputs": [
    {
     "data": {
      "text/plain": "(array([[ 0.        ,  0.        ,  0.13350171],\n        [ 0.        ,  0.        ,  0.12838964],\n        [ 0.        ,  0.        ,  0.        ],\n        [ 0.        ,  0.        , -0.13203758],\n        [ 0.        ,  0.        , -0.12985377]]),\n -0.13315560198848553)"
     },
     "execution_count": 7,
     "metadata": {},
     "output_type": "execute_result"
    }
   ],
   "source": [
    "forces_0, V_0"
   ],
   "metadata": {
    "collapsed": false,
    "ExecuteTime": {
     "end_time": "2023-11-06T22:04:37.171548900Z",
     "start_time": "2023-11-06T22:04:37.153549400Z"
    }
   }
  }
 ],
 "metadata": {
  "kernelspec": {
   "display_name": "Python 3",
   "language": "python",
   "name": "python3"
  },
  "language_info": {
   "codemirror_mode": {
    "name": "ipython",
    "version": 2
   },
   "file_extension": ".py",
   "mimetype": "text/x-python",
   "name": "python",
   "nbconvert_exporter": "python",
   "pygments_lexer": "ipython2",
   "version": "2.7.6"
  }
 },
 "nbformat": 4,
 "nbformat_minor": 0
}
