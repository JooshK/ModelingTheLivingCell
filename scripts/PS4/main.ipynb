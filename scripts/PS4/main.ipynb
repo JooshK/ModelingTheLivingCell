{
 "cells": [
  {
   "cell_type": "code",
   "execution_count": 1,
   "outputs": [],
   "source": [
    "import numpy as np"
   ],
   "metadata": {
    "collapsed": false
   }
  },
  {
   "cell_type": "code",
   "execution_count": 13,
   "outputs": [],
   "source": [
    "m = 40\n",
    "def verlet_update_position(positions, velocities, forces, dt):\n",
    "    position_update = []\n",
    "    for r_i, v_i, f_i in zip(positions, velocities, forces):\n",
    "        component_update = []\n",
    "        for i in range(3):\n",
    "            x_i_dt = r_i[i] + dt*v_i[i] + ((dt**2)/(2*m))*f_i[i]\n",
    "            component_update.append(x_i_dt)\n",
    "        position_update.append(component_update)\n",
    "    return np.array(position_update)"
   ],
   "metadata": {
    "collapsed": false
   }
  },
  {
   "cell_type": "code",
   "execution_count": 6,
   "outputs": [],
   "source": [
    "def lennard_jones_potential(distance, epsilon, sigma):\n",
    "    \"\"\"\n",
    "    :returns LJ potential with parameters epsilon, sigma\n",
    "    \"\"\"\n",
    "    return 4 * epsilon * ((sigma ** 12 / distance ** 6) - (sigma ** 6 / distance ** 3))\n",
    "\n",
    "\n",
    "def calculate_force(delta, r2_ij, epsilon, sigma):\n",
    "    \"\"\"\n",
    "    Calculates the LJ force on a particle in direction delta from another particle\n",
    "    :param delta: The direction to calculate the force in\n",
    "    :param r2_ij: Square distance\n",
    "    :param epsilon: LJ parameter energy\n",
    "    :param sigma: LJ parameter size\n",
    "    :return: Pairwise force between two particles\n",
    "    \"\"\"\n",
    "    return delta * (((48 * epsilon) / r2_ij) * ((sigma ** 12 / r2_ij ** 6) - (0.5 * sigma ** 6 / r2_ij ** 3)))\n",
    "\n",
    "\n",
    "def calculate_configuration_force(coordinates, epsilon, sigma, box_length):\n",
    "    \"\"\"\n",
    "    Given some configuration of particles, calculates the LJ potential/forces pairwise\n",
    "    :param coordinates: Positions of the particles\n",
    "    :param epsilon: LJ parameter energy\n",
    "    :param sigma: LJ parameter size\n",
    "    :param box_length: Box length to enforce periodic boundary conditions\n",
    "    :return: The configuration potential, matrix of force on each particle\n",
    "    \"\"\"\n",
    "    potential = 0\n",
    "    forces = np.zeros((len(coordinates), 3))\n",
    "\n",
    "    for i, particle_1 in enumerate(coordinates):\n",
    "        for j in range(i + 1, len(coordinates)):\n",
    "            particle_2 = coordinates[j]\n",
    "\n",
    "            # Calculates the delta in each direction and enforce PBC\n",
    "            delta_x = particle_1[0] - particle_2[0]\n",
    "            delta_y = particle_1[1] - particle_2[1]\n",
    "            delta_z = particle_1[2] - particle_2[2]\n",
    "\n",
    "            delta_x -= box_length * np.round(delta_x / box_length)\n",
    "            delta_y -= box_length * np.round(delta_y / box_length)\n",
    "            delta_z -= box_length * np.round(delta_z / box_length)\n",
    "\n",
    "            r2_ij = delta_x ** 2 + delta_y ** 2 + delta_z ** 2  # the squared distance\n",
    "\n",
    "            potential_ij = lennard_jones_potential(r2_ij, epsilon, sigma)  # LJ potential\n",
    "            f_ij_x = calculate_force(delta_x, r2_ij, epsilon, sigma)  # force in each direction\n",
    "            f_ij_y = calculate_force(delta_y, r2_ij, epsilon, sigma)\n",
    "            f_ij_z = calculate_force(delta_z, r2_ij, epsilon, sigma)\n",
    "            f_ij = [f_ij_x, f_ij_y, f_ij_z]\n",
    "\n",
    "            forces[i, :] = f_ij + forces[i, :]  # Uses N3L to calculate the force on j as - force on i\n",
    "            forces[j, :] = forces[j, :] - f_ij\n",
    "\n",
    "            potential += potential_ij\n",
    "\n",
    "    return potential, forces"
   ],
   "metadata": {
    "collapsed": false
   }
  },
  {
   "cell_type": "code",
   "execution_count": 4,
   "outputs": [
    {
     "data": {
      "text/plain": "array([[-1.2019639 ,  0.04937449,  1.3446687 ],\n       [ 0.95762696,  0.11536136, -1.3533073 ],\n       [-0.18897434,  0.52372794, -1.3651418 ],\n       [-1.6199141 , -0.04095865,  0.19033262],\n       [ 1.5412039 , -0.75625664, -1.0000951 ],\n       [-1.1155417 , -1.6664609 , -0.99065462],\n       [-0.70326225, -0.13556516, -0.21229811],\n       [ 1.0541455 ,  1.3754934 , -1.3764948 ],\n       [-0.02434042,  0.09024578,  0.67682947],\n       [ 0.57101383, -0.7828554 , -1.0092848 ],\n       [-0.75751888,  1.3451685 ,  0.35401673],\n       [ 0.02166862,  1.4060785 , -0.56307622],\n       [ 1.0072253 , -0.18563138,  0.94703502],\n       [-0.17290178, -1.4916186 ,  1.6233682 ],\n       [ 0.86533713, -1.2297605 ,  0.93751467],\n       [ 1.7441529 , -0.90349879,  1.4845521 ],\n       [ 0.22370473, -0.4626245 ,  1.6397821 ],\n       [-1.3001678 ,  0.77344676, -1.1569506 ],\n       [ 1.6386284 ,  1.270492  , -0.4038093 ],\n       [ 0.4666099 ,  0.85132912,  1.231999  ],\n       [-0.53585311, -1.3494132 , -0.152944  ],\n       [-0.87338446, -0.60012535, -1.2980486 ],\n       [ 0.92194814,  0.67006095,  0.17410359],\n       [-1.629674  , -1.2126794 ,  0.04931563],\n       [ 0.8281934 , -1.70892   , -0.02663257],\n       [-0.67302687,  0.9708395 ,  1.272444  ],\n       [-0.57873599, -0.71089178,  1.0573887 ],\n       [ 1.0796133 , -0.57929254,  0.02774024],\n       [ 1.4104184 ,  0.76103539,  1.3783008 ],\n       [ 0.16335072,  0.30273969, -0.5237867 ]])"
     },
     "execution_count": 4,
     "metadata": {},
     "output_type": "execute_result"
    }
   ],
   "source": [
    "positions = np.loadtxt(\"../../data/init_crds_boxl_3.5-2.dat\")\n",
    "positions"
   ],
   "metadata": {
    "collapsed": false
   }
  },
  {
   "cell_type": "code",
   "execution_count": 8,
   "outputs": [
    {
     "data": {
      "text/plain": "-29.472115017422276"
     },
     "execution_count": 8,
     "metadata": {},
     "output_type": "execute_result"
    }
   ],
   "source": [
    "potential, forces = calculate_configuration_force(positions, 0.25, 1, 3.5)\n",
    "potential"
   ],
   "metadata": {
    "collapsed": false
   }
  },
  {
   "cell_type": "code",
   "execution_count": 9,
   "outputs": [
    {
     "data": {
      "text/plain": "array([[ -2.97837648,   1.99370573,   0.93443728],\n       [  1.55677987,   4.26354883,  -0.51921188],\n       [ -6.09136609,   3.29395914, -15.77792601],\n       [  2.02149539,   5.36256787,   4.26937576],\n       [ 10.51332135,  -0.14044396,   3.18859249],\n       [ -0.38865308,   1.01391586,  -1.18461974],\n       [  1.38356628,  -2.865527  ,  -1.24086902],\n       [ -1.60915407,   1.89549032,   3.00377436],\n       [  0.03674392,   1.34986474,  -1.96470148],\n       [ -8.46651855,  -6.29029246,   9.87245059],\n       [ -2.61564248,  -5.17943027,  -2.19099747],\n       [  0.2417948 ,  -4.27326044,  -3.81911595],\n       [  1.2509662 ,   4.75133719,   5.36481179],\n       [  0.91010346,  -2.57999174,   1.89503713],\n       [ -1.57809634,  -1.61422931,   1.03976648],\n       [  1.27708464,   0.25402929,  -1.96253564],\n       [ -2.20455394,   4.10479666,  -6.4870063 ],\n       [  0.64906226,  -2.32067543,  -2.20748753],\n       [  1.7882653 ,  -0.61876732,   0.1181668 ],\n       [-11.6269295 ,   1.81223512,  -0.47499272],\n       [  0.80859363,  12.25412835,  -2.02435801],\n       [  0.99555371,   0.2380974 ,  -0.12230868],\n       [ -0.21081491,  -0.8832384 ,   1.26500377],\n       [  3.57728937,  -2.62679866,  -0.10675969],\n       [ -0.48250149,   2.5079154 ,   1.00899623],\n       [  1.20726079,  -1.19269384,   5.828959  ],\n       [ -3.44251811,  -3.71325427,  -3.96590305],\n       [-11.32628472,  -3.85354646,  -7.21153479],\n       [ 14.2663041 ,  -3.22057495,  -0.98365967],\n       [ 10.53722468,  -3.72286741,  14.45461595]])"
     },
     "execution_count": 9,
     "metadata": {},
     "output_type": "execute_result"
    }
   ],
   "source": [
    "forces"
   ],
   "metadata": {
    "collapsed": false
   }
  },
  {
   "cell_type": "code",
   "execution_count": 11,
   "outputs": [
    {
     "data": {
      "text/plain": "array([[ 0.48620842,  0.10139854,  0.71957774],\n       [-0.46112998,  0.48478951,  0.97915417],\n       [-0.7779438 , -0.97318966,  0.73763519],\n       [-1.36309273, -0.76634055,  1.63095223],\n       [-0.08139057, -0.6735442 ,  1.9940643 ],\n       [-0.38707995,  0.93711135,  0.40062969],\n       [ 0.66128518, -1.02793606,  0.89929236],\n       [ 0.56192165, -0.22724276, -1.43923723],\n       [-1.19040585,  0.2811706 ,  0.14459107],\n       [-1.68396605,  2.02533798,  0.83927484],\n       [ 0.64095247,  1.63816051, -1.42553038],\n       [ 0.21444624, -0.24289197,  0.32895921],\n       [-1.44098705, -1.23701372,  1.36866016],\n       [ 1.81172793,  0.68142506,  0.95257797],\n       [ 0.76592277, -0.20337644,  1.58979204],\n       [-0.43753378, -0.3135057 ,  1.42664987],\n       [-1.60129517,  1.15185553, -0.79202087],\n       [ 1.69488147,  0.38584501,  0.92457205],\n       [-1.1319444 , -0.51199272,  0.72658988],\n       [-1.01463366, -0.64875229,  0.62906894],\n       [-1.40249261,  2.56828924,  0.03347015],\n       [-0.27192357,  1.15101767,  0.70134784],\n       [-0.4122354 , -0.95001575,  0.345365  ],\n       [-0.41318204, -0.04887537, -0.3693249 ],\n       [ 0.00937771,  1.84585978, -1.7348065 ],\n       [ 0.65226776, -0.76084264, -1.7250889 ],\n       [ 0.42348541, -1.67852587, -0.12593526],\n       [ 0.01404291, -0.5785208 ,  1.65202146],\n       [ 1.34479006, -1.40030422,  1.92346827],\n       [-0.5975173 , -0.3714066 , -0.14152395]])"
     },
     "execution_count": 11,
     "metadata": {},
     "output_type": "execute_result"
    }
   ],
   "source": [
    "v = np.random.standard_normal((len(positions), 3))\n",
    "v"
   ],
   "metadata": {
    "collapsed": false
   }
  },
  {
   "cell_type": "code",
   "execution_count": 14,
   "outputs": [
    {
     "data": {
      "text/plain": "array([[-1.19953379,  0.04988211,  1.34826688],\n       [ 0.9553218 ,  0.11778664, -1.34841169],\n       [-0.19286596,  0.51886302, -1.36145855],\n       [-1.62672893, -0.04478867,  0.19848872],\n       [ 1.54080023, -0.7596244 , -0.99012378],\n       [-1.11747722, -1.66177503, -0.98865184],\n       [-0.69995539, -0.14070574, -0.20780204],\n       [ 1.05695461,  1.37435778, -1.38369005],\n       [-0.03029244,  0.09165205,  0.67755181],\n       [ 0.56259135, -0.77273068, -1.00508534],\n       [-0.75431494,  1.35335768,  0.34688839],\n       [ 0.02274092,  1.4048627 , -0.56143262],\n       [ 1.00002076, -0.19181496,  0.95388   ],\n       [-0.16384286, -1.48821228,  1.62813168],\n       [ 0.86916625, -1.23077789,  0.94546396],\n       [ 1.74196563, -0.90506624,  1.49168474],\n       [ 0.21569757, -0.45686394,  1.63581997],\n       [-1.29169319,  0.77537526, -1.15232843],\n       [ 1.63296924,  1.26793184, -0.40017631],\n       [ 0.4615331 ,  0.84808592,  1.2351442 ],\n       [-0.54286532, -1.33656792, -0.15277728],\n       [-0.87474377, -0.59437019, -1.2945419 ],\n       [ 0.9198869 ,  0.6653106 ,  0.17583081],\n       [-1.63173879, -1.2129246 ,  0.04746898],\n       [ 0.82824014, -1.69968992, -0.03530629],\n       [-0.66976515,  0.96703491,  1.26382038],\n       [-0.57661964, -0.71928557,  1.05675778],\n       [ 1.07967998, -0.58218635,  0.03599809],\n       [ 1.41714681,  0.75403286,  1.38791783],\n       [ 0.16036643,  0.30088149, -0.5244898 ]])"
     },
     "execution_count": 14,
     "metadata": {},
     "output_type": "execute_result"
    }
   ],
   "source": [
    "verlet_update_position(positions, v, forces, 0.005)"
   ],
   "metadata": {
    "collapsed": false
   }
  },
  {
   "cell_type": "code",
   "execution_count": null,
   "outputs": [],
   "source": [],
   "metadata": {
    "collapsed": false
   }
  }
 ],
 "metadata": {
  "kernelspec": {
   "display_name": "Python 3",
   "language": "python",
   "name": "python3"
  },
  "language_info": {
   "codemirror_mode": {
    "name": "ipython",
    "version": 2
   },
   "file_extension": ".py",
   "mimetype": "text/x-python",
   "name": "python",
   "nbconvert_exporter": "python",
   "pygments_lexer": "ipython2",
   "version": "2.7.6"
  }
 },
 "nbformat": 4,
 "nbformat_minor": 0
}
